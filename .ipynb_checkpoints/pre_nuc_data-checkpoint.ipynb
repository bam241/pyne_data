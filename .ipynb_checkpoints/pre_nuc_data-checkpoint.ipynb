{
 "cells": [
  {
   "cell_type": "code",
   "execution_count": 1,
   "metadata": {},
   "outputs": [],
   "source": [
    "import h5py"
   ]
  },
  {
   "cell_type": "code",
   "execution_count": 2,
   "metadata": {},
   "outputs": [],
   "source": [
    "f_old = h5py.File('../data/prebuilt_nuc_data.h5', 'r')\n",
    "f_new = h5py.File('./new_pre_built_nuc_data.h5', 'w')"
   ]
  },
  {
   "cell_type": "code",
   "execution_count": 3,
   "metadata": {},
   "outputs": [
    {
     "name": "stdout",
     "output_type": "stream",
     "text": [
      "atomic_mass\n",
      "decay\n",
      "dose_factors\n",
      "skipping material_library\n",
      "neutron\n",
      "<KeysViewHDF5 ['atomic_mass', 'decay', 'dose_factors', 'neutron']>\n"
     ]
    }
   ],
   "source": [
    "f_old.keys()\n",
    "for key in f_old.keys():\n",
    "    if(key != 'material_library'):\n",
    "        print (key)\n",
    "        f_old['/'].copy(source=key, dest=f_new['/'])\n",
    "    else:\n",
    "        print(\"skipping\", key)\n",
    "print(f_new.keys())"
   ]
  },
  {
   "cell_type": "code",
   "execution_count": 4,
   "metadata": {},
   "outputs": [],
   "source": [
    "f_old.close()\n",
    "f_new.close()"
   ]
  },
  {
   "cell_type": "code",
   "execution_count": 5,
   "metadata": {},
   "outputs": [],
   "source": [
    "from pyne import material_library\n",
    "from pyne.material_library import MaterialLibrary"
   ]
  },
  {
   "cell_type": "code",
   "execution_count": 6,
   "metadata": {},
   "outputs": [],
   "source": [
    "mat_lib = MaterialLibrary('../data/prebuilt_nuc_data.h5', datapath=\"/material_library/materials\")"
   ]
  },
  {
   "cell_type": "code",
   "execution_count": null,
   "metadata": {},
   "outputs": [],
   "source": []
  },
  {
   "cell_type": "code",
   "execution_count": 9,
   "metadata": {},
   "outputs": [],
   "source": [
    "mat_lib.write_hdf5('./new_pre_built_nuc_data.h5')"
   ]
  },
  {
   "cell_type": "code",
   "execution_count": 19,
   "metadata": {},
   "outputs": [],
   "source": [
    "from nose.tools import \\\n",
    "    assert_true, assert_false, \\\n",
    "    assert_almost_equal, assert_equal, \\\n",
    "    assert_raises\n",
    "def assert_mat_almost_equal(first, second, places=7):\n",
    "    assert_almost_equal(first.mass, second.mass, places=places)\n",
    "    assert_almost_equal(first.density, second.density, places=places)\n",
    "    assert_almost_equal(first.atoms_per_molecule,\n",
    "                        second.atoms_per_molecule, places=places)\n",
    "    assert_equal(first.metadata[\"name\"], second.metadata[\"name\"])\n",
    "    nucs = set(second.comp)\n",
    "    assert_equal(set(first.comp), nucs)\n",
    "    for nuc in nucs:\n",
    "        assert_almost_equal(first.comp[nuc], second.comp[nuc], places=places)"
   ]
  },
  {
   "cell_type": "code",
   "execution_count": 20,
   "metadata": {},
   "outputs": [],
   "source": [
    "new_mat_lib = MaterialLibrary('./new_pre_built_nuc_data.h5')"
   ]
  },
  {
   "cell_type": "code",
   "execution_count": 21,
   "metadata": {},
   "outputs": [],
   "source": [
    "for mat in mat_lib:\n",
    "    assert_mat_almost_equal(mat_lib[mat], new_mat_lib[mat])"
   ]
  },
  {
   "cell_type": "code",
   "execution_count": null,
   "metadata": {},
   "outputs": [],
   "source": []
  }
 ],
 "metadata": {
  "kernelspec": {
   "display_name": "Python 3",
   "language": "python",
   "name": "python3"
  },
  "language_info": {
   "codemirror_mode": {
    "name": "ipython",
    "version": 3
   },
   "file_extension": ".py",
   "mimetype": "text/x-python",
   "name": "python",
   "nbconvert_exporter": "python",
   "pygments_lexer": "ipython3",
   "version": "3.6.9"
  }
 },
 "nbformat": 4,
 "nbformat_minor": 4
}
